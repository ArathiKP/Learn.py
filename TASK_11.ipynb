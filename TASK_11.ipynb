{
  "nbformat": 4,
  "nbformat_minor": 0,
  "metadata": {
    "colab": {
      "name": "TASK 11.ipynb",
      "provenance": [],
      "include_colab_link": true
    },
    "kernelspec": {
      "name": "python3",
      "display_name": "Python 3"
    },
    "language_info": {
      "name": "python"
    }
  },
  "cells": [
    {
      "cell_type": "markdown",
      "metadata": {
        "id": "view-in-github",
        "colab_type": "text"
      },
      "source": [
        "<a href=\"https://colab.research.google.com/github/ArathiKP/Learn.py/blob/main/TASK_11.ipynb\" target=\"_parent\"><img src=\"https://colab.research.google.com/assets/colab-badge.svg\" alt=\"Open In Colab\"/></a>"
      ]
    },
    {
      "cell_type": "markdown",
      "metadata": {
        "id": "Ud2gZIbu6E59"
      },
      "source": [
        "N.B: Please find the answers by applying the functions on the matrices"
      ]
    },
    {
      "cell_type": "markdown",
      "metadata": {
        "id": "_9JX1Vdn4sTN"
      },
      "source": [
        "1. Create 2 3×3 matrix with 0-8 and 10-19 as elements in each and perform the vectorize multiplication operations on the matrices.(Outer product, Dot product, Element wise product)."
      ]
    },
    {
      "cell_type": "code",
      "metadata": {
        "id": "aBzAn6Z75VQ6",
        "outputId": "f75a5288-14d6-45be-e53f-cc2613226e72",
        "colab": {
          "base_uri": "https://localhost:8080/"
        }
      },
      "source": [
        "#please type your answer below this line.\n",
        "import numpy as np\n",
        "mat1 = np.random.randint(0,8,(3,3)) \n",
        "mat2 = np.random.randint(10,19,(3,3))    \n",
        "print(\"Matrix A\\n\" ,mat1)  \n",
        "print(\"\\nMatrix B\\n\" ,mat2)  \n",
        "out = np.multiply.outer(mat1,mat2) \n",
        "print(\"Outer Products\\n\",out)  \n",
        "dot = np.dot(mat1,mat2) \n",
        "print(\"Dot Products\\n\",dot)  \n",
        "Ele = np.multiply(mat1,mat2) \n",
        "print(\"Element Wise\\n\",Ele)\n",
        "\n"
      ],
      "execution_count": 4,
      "outputs": [
        {
          "output_type": "stream",
          "text": [
            "Matrix A\n",
            " [[5 1 2]\n",
            " [5 5 7]\n",
            " [2 6 6]]\n",
            "\n",
            "Matrix B\n",
            " [[13 18 11]\n",
            " [15 15 18]\n",
            " [17 12 12]]\n",
            "Outer Products\n",
            " [[[[ 65  90  55]\n",
            "   [ 75  75  90]\n",
            "   [ 85  60  60]]\n",
            "\n",
            "  [[ 13  18  11]\n",
            "   [ 15  15  18]\n",
            "   [ 17  12  12]]\n",
            "\n",
            "  [[ 26  36  22]\n",
            "   [ 30  30  36]\n",
            "   [ 34  24  24]]]\n",
            "\n",
            "\n",
            " [[[ 65  90  55]\n",
            "   [ 75  75  90]\n",
            "   [ 85  60  60]]\n",
            "\n",
            "  [[ 65  90  55]\n",
            "   [ 75  75  90]\n",
            "   [ 85  60  60]]\n",
            "\n",
            "  [[ 91 126  77]\n",
            "   [105 105 126]\n",
            "   [119  84  84]]]\n",
            "\n",
            "\n",
            " [[[ 26  36  22]\n",
            "   [ 30  30  36]\n",
            "   [ 34  24  24]]\n",
            "\n",
            "  [[ 78 108  66]\n",
            "   [ 90  90 108]\n",
            "   [102  72  72]]\n",
            "\n",
            "  [[ 78 108  66]\n",
            "   [ 90  90 108]\n",
            "   [102  72  72]]]]\n",
            "Dot Products\n",
            " [[114 129  97]\n",
            " [259 249 229]\n",
            " [218 198 202]]\n",
            "Element Wise\n",
            " [[ 65  18  22]\n",
            " [ 75  75 126]\n",
            " [ 34  72  72]]\n"
          ],
          "name": "stdout"
        }
      ]
    },
    {
      "cell_type": "markdown",
      "metadata": {
        "id": "gJGtIjx25k92"
      },
      "source": [
        "2. Create a 4×4 matrix with 0-16  as elements in it. Add a scalar 4 to the matrix and also multiply it with [1,2,3,4] 1-D matrix by broadcasting. ( Please note to do both the addition and multiplication by broadcasting.)"
      ]
    },
    {
      "cell_type": "code",
      "metadata": {
        "id": "H7cznh8M56r-",
        "outputId": "fb9a4b7a-8663-4dc6-a337-4e5f73b53f93",
        "colab": {
          "base_uri": "https://localhost:8080/"
        }
      },
      "source": [
        "#please type your answer below this line.\n",
        "import numpy as np  \n",
        "mat = np.random.randint(0,16,(4,4)) \n",
        "print(\"Matrix is \\n\", mat)  \n",
        "#adding 4(scalar)to the matrix \n",
        "scal = 2 \n",
        "addScal = mat + scal \n",
        "print(\"\\n Scalar Matrix\\n\",addScal)  \n",
        "#matrix broadcasting \n",
        "nums = np.array([1,2,3,4]) \n",
        "mult = mat * nums \n",
        "print(\"\\nThe Multiplication by broadcasting\\n\",mult)\n",
        "\n"
      ],
      "execution_count": 3,
      "outputs": [
        {
          "output_type": "stream",
          "text": [
            "Matrix is \n",
            " [[ 4  2  2 12]\n",
            " [13  9  0 12]\n",
            " [11 14 15  2]\n",
            " [ 0  6 10  1]]\n",
            "\n",
            " Scalar Matrix\n",
            " [[ 6  4  4 14]\n",
            " [15 11  2 14]\n",
            " [13 16 17  4]\n",
            " [ 2  8 12  3]]\n",
            "\n",
            "The Multiplication by broadcasting\n",
            " [[ 4  4  6 48]\n",
            " [13 18  0 48]\n",
            " [11 28 45  8]\n",
            " [ 0 12 30  4]]\n"
          ],
          "name": "stdout"
        }
      ]
    }
  ]
}