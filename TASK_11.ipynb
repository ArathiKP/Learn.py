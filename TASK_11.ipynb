{
  "nbformat": 4,
  "nbformat_minor": 0,
  "metadata": {
    "colab": {
      "name": "TASK 11.ipynb",
      "provenance": [],
      "include_colab_link": true
    },
    "kernelspec": {
      "name": "python3",
      "display_name": "Python 3"
    },
    "language_info": {
      "name": "python"
    }
  },
  "cells": [
    {
      "cell_type": "markdown",
      "metadata": {
        "id": "view-in-github",
        "colab_type": "text"
      },
      "source": [
        "<a href=\"https://colab.research.google.com/github/ArathiKP/Learn.py/blob/main/TASK_11.ipynb\" target=\"_parent\"><img src=\"https://colab.research.google.com/assets/colab-badge.svg\" alt=\"Open In Colab\"/></a>"
      ]
    },
    {
      "cell_type": "markdown",
      "metadata": {
        "id": "Ud2gZIbu6E59"
      },
      "source": [
        "N.B: Please find the answers by applying the functions on the matrices"
      ]
    },
    {
      "cell_type": "markdown",
      "metadata": {
        "id": "_9JX1Vdn4sTN"
      },
      "source": [
        "1. Create 2 3×3 matrix with 0-8 and 10-19 as elements in each and perform the vectorize multiplication operations on the matrices.(Outer product, Dot product, Element wise product)."
      ]
    },
    {
      "cell_type": "code",
      "metadata": {
        "id": "aBzAn6Z75VQ6",
        "outputId": "4fb943ef-65fe-46da-be24-0dcfdbf4222e",
        "colab": {
          "base_uri": "https://localhost:8080/"
        }
      },
      "source": [
        "#please type your answer below this line.\n",
        "import numpy as np\n",
        "mat1 = np.random.randint(0,8,(3,3)) \n",
        "mat2 = np.random.randint(10,19,(3,3))    \n",
        "print(\"Matrix A\\n\" ,mat1)  \n",
        "print(\"\\nMatrix B\\n\" ,mat2)  \n",
        "out = np.multiply.outer(mat1,mat2) \n",
        "print(\"Outer Products\\n\",out)  \n",
        "dot = np.dot(mat1,mat2) \n",
        "print(\"Dot Products\\n\",dot)  \n",
        "Ele = np.multiply(mat1,mat2) \n",
        "print(\"Element Wise\\n\",Ele)\n"
      ],
      "execution_count": 1,
      "outputs": [
        {
          "output_type": "stream",
          "text": [
            "Matrix A\n",
            " [[7 6 4]\n",
            " [7 3 2]\n",
            " [2 5 5]]\n",
            "\n",
            "Matrix B\n",
            " [[14 14 12]\n",
            " [13 11 18]\n",
            " [18 15 10]]\n",
            "Outer Products\n",
            " [[[[ 98  98  84]\n",
            "   [ 91  77 126]\n",
            "   [126 105  70]]\n",
            "\n",
            "  [[ 84  84  72]\n",
            "   [ 78  66 108]\n",
            "   [108  90  60]]\n",
            "\n",
            "  [[ 56  56  48]\n",
            "   [ 52  44  72]\n",
            "   [ 72  60  40]]]\n",
            "\n",
            "\n",
            " [[[ 98  98  84]\n",
            "   [ 91  77 126]\n",
            "   [126 105  70]]\n",
            "\n",
            "  [[ 42  42  36]\n",
            "   [ 39  33  54]\n",
            "   [ 54  45  30]]\n",
            "\n",
            "  [[ 28  28  24]\n",
            "   [ 26  22  36]\n",
            "   [ 36  30  20]]]\n",
            "\n",
            "\n",
            " [[[ 28  28  24]\n",
            "   [ 26  22  36]\n",
            "   [ 36  30  20]]\n",
            "\n",
            "  [[ 70  70  60]\n",
            "   [ 65  55  90]\n",
            "   [ 90  75  50]]\n",
            "\n",
            "  [[ 70  70  60]\n",
            "   [ 65  55  90]\n",
            "   [ 90  75  50]]]]\n",
            "Dot Products\n",
            " [[248 224 232]\n",
            " [173 161 158]\n",
            " [183 158 164]]\n",
            "Element Wise\n",
            " [[98 84 48]\n",
            " [91 33 36]\n",
            " [36 75 50]]\n"
          ],
          "name": "stdout"
        }
      ]
    },
    {
      "cell_type": "markdown",
      "metadata": {
        "id": "gJGtIjx25k92"
      },
      "source": [
        "2. Create a 4×4 matrix with 0-16  as elements in it. Add a scalar 4 to the matrix and also multiply it with [1,2,3,4] 1-D matrix by broadcasting. ( Please note to do both the addition and multiplication by broadcasting.)"
      ]
    },
    {
      "cell_type": "code",
      "metadata": {
        "id": "H7cznh8M56r-",
        "outputId": "3c940ca9-20be-45d7-cc33-a4681822866e",
        "colab": {
          "base_uri": "https://localhost:8080/"
        }
      },
      "source": [
        "#please type your answer below this line.\n",
        "import numpy as np  \n",
        "mat = np.random.randint(0,16,(4,4)) \n",
        "print(\"Matrix is \\n\", mat)  \n",
        "#adding 4(scalar)to the matrix \n",
        "scal = 2 \n",
        "addScal = mat + scal \n",
        "print(\"\\n Scalar Matrix\\n\",addScal)  \n",
        "#matrix broadcasting \n",
        "nums = np.array([1,2,3,4]) \n",
        "mult = mat * nums \n",
        "print(\"\\nThe Multiplication by broadcasting\\n\",mult)\n"
      ],
      "execution_count": 2,
      "outputs": [
        {
          "output_type": "stream",
          "text": [
            "Matrix is \n",
            " [[13 13  4  1]\n",
            " [ 3 14  4  8]\n",
            " [12  9 12  1]\n",
            " [13  9 10 10]]\n",
            "\n",
            " Scalar Matrix\n",
            " [[15 15  6  3]\n",
            " [ 5 16  6 10]\n",
            " [14 11 14  3]\n",
            " [15 11 12 12]]\n",
            "\n",
            "The Multiplication by broadcasting\n",
            " [[13 26 12  4]\n",
            " [ 3 28 12 32]\n",
            " [12 18 36  4]\n",
            " [13 18 30 40]]\n"
          ],
          "name": "stdout"
        }
      ]
    }
  ]
}