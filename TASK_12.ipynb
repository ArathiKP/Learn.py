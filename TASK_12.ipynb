{
  "nbformat": 4,
  "nbformat_minor": 0,
  "metadata": {
    "colab": {
      "name": "TASK 12.ipynb",
      "provenance": [],
      "include_colab_link": true
    },
    "kernelspec": {
      "name": "python3",
      "display_name": "Python 3"
    },
    "language_info": {
      "name": "python"
    }
  },
  "cells": [
    {
      "cell_type": "markdown",
      "metadata": {
        "id": "view-in-github",
        "colab_type": "text"
      },
      "source": [
        "<a href=\"https://colab.research.google.com/github/ArathiKP/Learn.py/blob/main/TASK_12.ipynb\" target=\"_parent\"><img src=\"https://colab.research.google.com/assets/colab-badge.svg\" alt=\"Open In Colab\"/></a>"
      ]
    },
    {
      "cell_type": "markdown",
      "metadata": {
        "id": "i9LeFsII-SAQ"
      },
      "source": [
        "1. Create an 4x4 array with elements ranging from 0-15. And find the trace of the array."
      ]
    },
    {
      "cell_type": "code",
      "metadata": {
        "id": "eT1ymGjZ-pOZ",
        "outputId": "ef34d37f-9faf-4d30-833c-091bc7eef403",
        "colab": {
          "base_uri": "https://localhost:8080/"
        }
      },
      "source": [
        "#please type your answer below this line.\n",
        "import numpy as np  \n",
        "mat = np.random.randint(0,15,(4,4)) \n",
        "print(\"Array\\n\",mat)  \n",
        "print(\"Trace of the Array is: \\n\",mat.trace())\n"
      ],
      "execution_count": 1,
      "outputs": [
        {
          "output_type": "stream",
          "text": [
            "Array\n",
            " [[13  5  1  4]\n",
            " [ 9 11  1  0]\n",
            " [10  2  7  7]\n",
            " [11  9  0  0]]\n",
            "Trace of the Array is: \n",
            " 31\n"
          ],
          "name": "stdout"
        }
      ]
    },
    {
      "cell_type": "markdown",
      "metadata": {
        "id": "Hw69FYds-zww"
      },
      "source": [
        "2. Create a matrix with elements [6,1,1],[4,-2,5],[2,8,7].Now find the inverse this matrix."
      ]
    },
    {
      "cell_type": "code",
      "metadata": {
        "id": "IAhA-qIwAoxs",
        "outputId": "dc55f872-356a-4478-a57e-286509d825c9",
        "colab": {
          "base_uri": "https://localhost:8080/"
        }
      },
      "source": [
        "#please type your answer below this line.\n",
        "import numpy as np \n",
        "mat = np.array([[6,1,1],[4,-2,5],[2,8,7]]) \n",
        "print(\"Matix\\n\",mat) \n",
        "print(\"\\nThe Inverse of Matrix is :\\n\",np.linalg.inv(mat))\n"
      ],
      "execution_count": 2,
      "outputs": [
        {
          "output_type": "stream",
          "text": [
            "Matix\n",
            " [[ 6  1  1]\n",
            " [ 4 -2  5]\n",
            " [ 2  8  7]]\n",
            "\n",
            "The Inverse of Matrix is :\n",
            " [[ 0.17647059 -0.00326797 -0.02287582]\n",
            " [ 0.05882353 -0.13071895  0.08496732]\n",
            " [-0.11764706  0.1503268   0.05228758]]\n"
          ],
          "name": "stdout"
        }
      ]
    },
    {
      "cell_type": "markdown",
      "metadata": {
        "id": "6B6aJDFKAz0B"
      },
      "source": [
        "3. Create an 3x3 array with elements ranging from 0-8. And find the norm this array."
      ]
    },
    {
      "cell_type": "code",
      "metadata": {
        "id": "49RVb-g3CXSk",
        "outputId": "817bf220-3e43-4838-9f2f-bd67b745293f",
        "colab": {
          "base_uri": "https://localhost:8080/"
        }
      },
      "source": [
        "#please type your answer below this line.\n",
        "import numpy as np  \n",
        "mat = np.random.randint(0,8,(3,3)) \n",
        "print(\"Array\\n\",mat) \n",
        "print(\"\\nThe Norm of the Matrix is\\n\",np.linalg.norm(mat))\n"
      ],
      "execution_count": 3,
      "outputs": [
        {
          "output_type": "stream",
          "text": [
            "Array\n",
            " [[0 1 7]\n",
            " [2 0 2]\n",
            " [6 4 6]]\n",
            "\n",
            "The Norm of the Matrix is\n",
            " 12.083045973594572\n"
          ],
          "name": "stdout"
        }
      ]
    },
    {
      "cell_type": "markdown",
      "metadata": {
        "id": "pGKEu4lxDCJK"
      },
      "source": [
        "4. Create a 4x4 array whose value ranging from 0-15.And find the eigenvalues and eigenvectors of this array."
      ]
    },
    {
      "cell_type": "code",
      "metadata": {
        "id": "dyymkid0DTth",
        "outputId": "3296e1c0-0ff8-474c-eb94-778088de232d",
        "colab": {
          "base_uri": "https://localhost:8080/"
        }
      },
      "source": [
        "#please type your answer below this line.\n",
        "import numpy as np \n",
        "mat = np.random.randint(0,15,(4,4)) \n",
        "print(\"Array\\n\",mat) \n",
        "print(\"\\nThe EigenValue and EigenVectors of the Matrix is\\n\",np.linalg.eig(mat))"
      ],
      "execution_count": 4,
      "outputs": [
        {
          "output_type": "stream",
          "text": [
            "Array\n",
            " [[ 0  2  3  6]\n",
            " [14  5  6  7]\n",
            " [ 3 10  6  7]\n",
            " [ 9  0  2  1]]\n",
            "\n",
            "The EigenValue and EigenVectors of the Matrix is\n",
            " (array([18.68641931+0.j       , -6.86020056+0.j       ,\n",
            "        0.08689063+1.4594037j,  0.08689063-1.4594037j]), array([[ 0.24512269+0.j        ,  0.40972938+0.j        ,\n",
            "         0.13976919+0.04571004j,  0.13976919-0.04571004j],\n",
            "       [ 0.65481105+0.j        , -0.40171121+0.j        ,\n",
            "         0.22598817-0.21425995j,  0.22598817+0.21425995j],\n",
            "       [ 0.68572686+0.j        ,  0.54805391+0.j        ,\n",
            "        -0.86536675+0.j        , -0.86536675-0.j        ],\n",
            "       [ 0.20227712+0.j        , -0.60859416+0.j        ,\n",
            "         0.34825985+0.10607856j,  0.34825985-0.10607856j]]))\n"
          ],
          "name": "stdout"
        }
      ]
    }
  ]
}