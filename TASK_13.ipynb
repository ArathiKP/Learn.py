{
  "nbformat": 4,
  "nbformat_minor": 0,
  "metadata": {
    "colab": {
      "name": "TASK 13.ipynb",
      "provenance": [],
      "include_colab_link": true
    },
    "kernelspec": {
      "name": "python3",
      "display_name": "Python 3"
    },
    "language_info": {
      "name": "python"
    }
  },
  "cells": [
    {
      "cell_type": "markdown",
      "metadata": {
        "id": "view-in-github",
        "colab_type": "text"
      },
      "source": [
        "<a href=\"https://colab.research.google.com/github/ArathiKP/Learn.py/blob/main/TASK_13.ipynb\" target=\"_parent\"><img src=\"https://colab.research.google.com/assets/colab-badge.svg\" alt=\"Open In Colab\"/></a>"
      ]
    },
    {
      "cell_type": "markdown",
      "metadata": {
        "id": "RUSoRkrOqNwf"
      },
      "source": [
        "1. Create a 3x3 array values ranging from 0-8.Find the sum of the elements in this array."
      ]
    },
    {
      "cell_type": "code",
      "metadata": {
        "id": "t01ATYQpqq8u",
        "outputId": "b7554bfa-ce1f-4116-e514-7cb702324521",
        "colab": {
          "base_uri": "https://localhost:8080/"
        }
      },
      "source": [
        "#please enter your code below this line.\n",
        "import numpy as np \n",
        "mat = np.random.randint(0,8,(3,3)) \n",
        "print(\"\\n The Matrix is:\\n\",mat) \n",
        "sum = np.sum(mat) \n",
        "print(\"\\n Sum is :\\n\",sum)\n"
      ],
      "execution_count": 1,
      "outputs": [
        {
          "output_type": "stream",
          "text": [
            "\n",
            " The Matrix is:\n",
            " [[6 0 2]\n",
            " [4 1 6]\n",
            " [1 6 0]]\n",
            "\n",
            " Sum is :\n",
            " 26\n"
          ],
          "name": "stdout"
        }
      ]
    },
    {
      "cell_type": "markdown",
      "metadata": {
        "id": "k3Y7nQF7r3IW"
      },
      "source": [
        "2. Create a 3x3 array values ranging from 0-8.Find the row sum and column sum of this array."
      ]
    },
    {
      "cell_type": "code",
      "metadata": {
        "id": "BzvIlWfvsICv",
        "outputId": "92223f93-5d41-420f-e7bf-3b7e5a8a19bc",
        "colab": {
          "base_uri": "https://localhost:8080/"
        }
      },
      "source": [
        "#please enter your code below this line.\n",
        "import numpy as np \n",
        "mat = np.random.randint(0,8,(3,3)) \n",
        "print(\"\\n The Matrix is:\\n\",mat) \n",
        "col = np.sum(mat,axis =0) \n",
        "print(\"\\n Sum of Columns:\\n\",col) \n",
        "row = np.sum(mat,axis =1) \n",
        "print(\"\\n Sum of rows:\\n\",row)"
      ],
      "execution_count": 5,
      "outputs": [
        {
          "output_type": "stream",
          "text": [
            "\n",
            " The Matrix is:\n",
            " [[2 5 2]\n",
            " [4 4 6]\n",
            " [4 5 0]]\n",
            "\n",
            " Sum of Columns:\n",
            " [10 14  8]\n",
            "\n",
            " Sum of rows:\n",
            " [ 9 14  9]\n"
          ],
          "name": "stdout"
        }
      ]
    },
    {
      "cell_type": "markdown",
      "metadata": {
        "id": "KOPMsbnrsgue"
      },
      "source": [
        "3. Create a 4x4 array values ranging from 0-15. Now,\n",
        "\n",
        "    a) Find the mininmum value in the array.\n",
        "    \n",
        "    b) Find the maximum value in the array.\n",
        "\n",
        "    c) Find the mean of the values in the array."
      ]
    },
    {
      "cell_type": "code",
      "metadata": {
        "id": "1UzITxp3WDaW",
        "outputId": "e9784f03-887f-4040-dd82-87adfc1f30a9",
        "colab": {
          "base_uri": "https://localhost:8080/"
        }
      },
      "source": [
        "#please enter your code belowthis line.\n",
        "import numpy as np \n",
        "mat = np.random.randint(0,15,(4,4)) \n",
        "print(\"\\n The Matrix is:\\n\",mat)  \n",
        "min = np.min(mat) \n",
        "print(\"\\n Minimum Value is\\n\",min)  \n",
        "max = np.max(mat) \n",
        "print(\"\\n Maximum Value is\\n\",max)  \n",
        "mean = np.mean(mat) \n",
        "print(\"\\n Minimum Value is\\n\",mean)"
      ],
      "execution_count": 6,
      "outputs": [
        {
          "output_type": "stream",
          "text": [
            "\n",
            " The Matrix is:\n",
            " [[10 14  2  0]\n",
            " [ 5  5  6  3]\n",
            " [ 3  7  4 13]\n",
            " [ 9  8  1 11]]\n",
            "\n",
            " Minimum Value is\n",
            " 0\n",
            "\n",
            " Maximum Value is\n",
            " 14\n",
            "\n",
            " Minimum Value is\n",
            " 6.3125\n"
          ],
          "name": "stdout"
        }
      ]
    },
    {
      "cell_type": "markdown",
      "metadata": {
        "id": "Pah9qGButoz2"
      },
      "source": [
        "4. Create an 10x10 array values ranging from 0-99.And ,\n",
        "\n",
        "    a) Print the 7th row.\n",
        "    \n",
        "    b) Print the rows from 4-8.\n",
        "\n",
        "    c) Print the value at the index 5,5.\n",
        "\n",
        "    d) Print the 5th colomn.\n",
        "\n",
        "    e) Print the columns from 2-5."
      ]
    },
    {
      "cell_type": "code",
      "metadata": {
        "id": "JFXPq0GkvhKi",
        "outputId": "09547a00-9b78-464d-a46f-e6f99febe309",
        "colab": {
          "base_uri": "https://localhost:8080/"
        }
      },
      "source": [
        "#please enter your code below this line.\n",
        "import numpy as np \n",
        "mat = np.random.randint(0,99,(10,10)) \n",
        "print(\"\\n The Matrix is:\\n\",mat) \n",
        "print(\"\\nThe 7th row is :\\n\",mat[7,:])  \n",
        "print(\"\\nThe 4-8th row is :\\n\",mat[4:8,:]) \n",
        "print(\"\\nThe value at (5,5) is :\\n\",mat[5,5])  \n",
        "print(\"\\nThe 5th column) is :\\n\",mat[:,5]) \n",
        "print(\"\\nThe 2-5th column) is :\\n\",mat[:,2:5])\n"
      ],
      "execution_count": 7,
      "outputs": [
        {
          "output_type": "stream",
          "text": [
            "\n",
            " The Matrix is:\n",
            " [[35  3  4 69 43 52 17 73 28 63]\n",
            " [29 86 72 10 58 47 88 54 71 93]\n",
            " [79  3 47 59 92 48 79 56 78 80]\n",
            " [ 2 32 56 85 14 31 93  4 36 82]\n",
            " [58 15 80  5 55 46 47 78 37  7]\n",
            " [87 12 69 93 23 71 39 59  5 93]\n",
            " [10 50 57 78 56 66 21 45 25 79]\n",
            " [90 75 64 83 23  9 59 49 27  9]\n",
            " [17 82 63 15 36 70 56 73 30 38]\n",
            " [82 44 81  6 70 55  9 72 46 82]]\n",
            "\n",
            "The 7th row is :\n",
            " [90 75 64 83 23  9 59 49 27  9]\n",
            "\n",
            "The 4-8th row is :\n",
            " [[58 15 80  5 55 46 47 78 37  7]\n",
            " [87 12 69 93 23 71 39 59  5 93]\n",
            " [10 50 57 78 56 66 21 45 25 79]\n",
            " [90 75 64 83 23  9 59 49 27  9]]\n",
            "\n",
            "The value at (5,5) is :\n",
            " 71\n",
            "\n",
            "The 5th column) is :\n",
            " [52 47 48 31 46 71 66  9 70 55]\n",
            "\n",
            "The 2-5th column) is :\n",
            " [[ 4 69 43]\n",
            " [72 10 58]\n",
            " [47 59 92]\n",
            " [56 85 14]\n",
            " [80  5 55]\n",
            " [69 93 23]\n",
            " [57 78 56]\n",
            " [64 83 23]\n",
            " [63 15 36]\n",
            " [81  6 70]]\n"
          ],
          "name": "stdout"
        }
      ]
    }
  ]
}