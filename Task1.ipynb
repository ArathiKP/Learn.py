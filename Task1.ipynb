{
  "nbformat": 4,
  "nbformat_minor": 0,
  "metadata": {
    "colab": {
      "name": "Task1.ipynb",
      "provenance": [],
      "authorship_tag": "ABX9TyNZdhO/C+BYBtfgxtBedn3Z",
      "include_colab_link": true
    },
    "kernelspec": {
      "name": "python3",
      "display_name": "Python 3"
    },
    "language_info": {
      "name": "python"
    }
  },
  "cells": [
    {
      "cell_type": "markdown",
      "metadata": {
        "id": "view-in-github",
        "colab_type": "text"
      },
      "source": [
        "<a href=\"https://colab.research.google.com/github/ArathiKP/Learn.py/blob/main/Task1.ipynb\" target=\"_parent\"><img src=\"https://colab.research.google.com/assets/colab-badge.svg\" alt=\"Open In Colab\"/></a>"
      ]
    },
    {
      "cell_type": "markdown",
      "metadata": {
        "id": "DvZbwpP7_-AL"
      },
      "source": [
        "1.Write a program that uses input to prompt a user for their name and then welcomes them."
      ]
    },
    {
      "cell_type": "code",
      "metadata": {
        "colab": {
          "base_uri": "https://localhost:8080/"
        },
        "id": "SS7ebFZe_ph9",
        "outputId": "3f3bb363-3129-44be-ae9c-3994acf0045c"
      },
      "source": [
        "print(\"Arathi,welcome to the class\")\n"
      ],
      "execution_count": 1,
      "outputs": [
        {
          "output_type": "stream",
          "text": [
            "Arathi,welcome to the class\n"
          ],
          "name": "stdout"
        }
      ]
    },
    {
      "cell_type": "markdown",
      "metadata": {
        "id": "3ZuH1YZ-A9ut"
      },
      "source": [
        "2.Write a program which prompts the user for a Celsius temperature, convert the temperature to Fahrenheit, and print out the converted temperature."
      ]
    },
    {
      "cell_type": "code",
      "metadata": {
        "colab": {
          "base_uri": "https://localhost:8080/"
        },
        "id": "uI0Yzzw7BEUz",
        "outputId": "3bd27e9b-ca23-4c47-fa31-7717b4ed76ba"
      },
      "source": [
        " Celsius = 37\n",
        "Fahrenheit = (Celsius *9/5)+32\n",
        "print(\"the value of celsius temperature in fahrenheit is\",(Fahrenheit))"
      ],
      "execution_count": 2,
      "outputs": [
        {
          "output_type": "stream",
          "text": [
            "the value of celsius temperature in fahrenheit is 98.6\n"
          ],
          "name": "stdout"
        }
      ]
    },
    {
      "cell_type": "markdown",
      "metadata": {
        "id": "d76XLA5qBOVA"
      },
      "source": [
        "3.Write a Python program to convert degree to radian."
      ]
    },
    {
      "cell_type": "code",
      "metadata": {
        "colab": {
          "base_uri": "https://localhost:8080/"
        },
        "id": "nANK7uzwBULD",
        "outputId": "b2443a71-90ab-49c4-fdd3-135480bd27b8"
      },
      "source": [
        "Degree = 45 \n",
        "Radian = 45*180/3.14\n",
        "print(\"convert degree to radian\",(Radian))"
      ],
      "execution_count": 3,
      "outputs": [
        {
          "output_type": "stream",
          "text": [
            "convert degree to radian 2579.6178343949045\n"
          ],
          "name": "stdout"
        }
      ]
    }
  ]
}