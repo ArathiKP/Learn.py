{
  "nbformat": 4,
  "nbformat_minor": 0,
  "metadata": {
    "colab": {
      "name": "TASK 10.ipynb",
      "provenance": [],
      "include_colab_link": true
    },
    "kernelspec": {
      "name": "python3",
      "display_name": "Python 3"
    },
    "language_info": {
      "name": "python"
    }
  },
  "cells": [
    {
      "cell_type": "markdown",
      "metadata": {
        "id": "view-in-github",
        "colab_type": "text"
      },
      "source": [
        "<a href=\"https://colab.research.google.com/github/ArathiKP/Learn.py/blob/main/TASK_10.ipynb\" target=\"_parent\"><img src=\"https://colab.research.google.com/assets/colab-badge.svg\" alt=\"Open In Colab\"/></a>"
      ]
    },
    {
      "cell_type": "markdown",
      "metadata": {
        "id": "VHKxwUewxOi2"
      },
      "source": [
        "1. Generate two  3 x 3 matrix and find it's dot product and take the transpose of the answer."
      ]
    },
    {
      "cell_type": "code",
      "metadata": {
        "id": "RdyKd1CAxZtR",
        "outputId": "1e865cec-2611-4ae2-e7c3-5502d69b7409",
        "colab": {
          "base_uri": "https://localhost:8080/"
        }
      },
      "source": [
        "#please provide your answer below this line.\n",
        "import numpy as np\n",
        "matrix1 = np.random.randint(0,10,(3,3))\n",
        "matrix2 = np.random.randint(0,10,(3,3))\n",
        "print(matrix1)\n",
        "print(matrix2)\n",
        "dot = np.dot(matrix1,matrix2)\n",
        "print(dot)"
      ],
      "execution_count": 1,
      "outputs": [
        {
          "output_type": "stream",
          "text": [
            "[[2 6 4]\n",
            " [2 2 9]\n",
            " [2 6 8]]\n",
            "[[3 9 2]\n",
            " [4 4 0]\n",
            " [5 5 8]]\n",
            "[[50 62 36]\n",
            " [59 71 76]\n",
            " [70 82 68]]\n"
          ],
          "name": "stdout"
        }
      ]
    },
    {
      "cell_type": "markdown",
      "metadata": {
        "id": "9c9ZwiBxxf4t"
      },
      "source": [
        "2. Create a 3x3 matrix with elements [55,25,15], [30,44,2], [11,45,77] . Now find the determinant of the given matrix."
      ]
    },
    {
      "cell_type": "code",
      "metadata": {
        "id": "Anmr3C9KyNyy",
        "outputId": "b6bc48e3-22d9-45de-bea1-c4fedcc081e1",
        "colab": {
          "base_uri": "https://localhost:8080/"
        }
      },
      "source": [
        "#please provide your answer below this line.\n",
        "import numpy as np\n",
        "matrix = [[55,25,15],[30,44,2],[11,45,77]]\n",
        "print(matrix)\n",
        "det = np.linalg.det(matrix)\n",
        "print(det)\n",
        "\n"
      ],
      "execution_count": 2,
      "outputs": [
        {
          "output_type": "stream",
          "text": [
            "[[55, 25, 15], [30, 44, 2], [11, 45, 77]]\n",
            "137180.0000000001\n"
          ],
          "name": "stdout"
        }
      ]
    }
  ]
}